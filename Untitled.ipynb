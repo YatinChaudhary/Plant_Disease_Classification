{
 "cells": [
  {
   "cell_type": "code",
   "execution_count": 1,
   "metadata": {
    "collapsed": false
   },
   "outputs": [],
   "source": [
    "import glob, os\n",
    "import shutil\n",
    "import numpy as np\n",
    "#import cPickle as pickle\n",
    "\n",
    "#root = \"../PlantVillage_Dataset/raw\"\n",
    "root = \"..\\\\PlantVillage-Dataset\\\\raw\"\n",
    "\n",
    "### FOR FULL DATASET\n",
    "#target = \"../partitioned_dataset\"\n",
    "\n",
    "### FOR BALANCED DATASET\n",
    "target = \"..\\\\partitioned_dataset_balanced\"\n",
    "\n",
    "### FOR DEVELOPMENT DATASET\n",
    "#target = \"../partitioned_dataset_dev\"\n",
    "\n",
    "rootdir = os.path.join(root, 'segmented')\n",
    "#dirs_rootdir = os.walk(rootdir)"
   ]
  },
  {
   "cell_type": "code",
   "execution_count": 2,
   "metadata": {
    "collapsed": false
   },
   "outputs": [
    {
     "name": "stdout",
     "output_type": "stream",
     "text": [
      "Help on class dict in module builtins:\n",
      "\n",
      "class dict(object)\n",
      " |  dict() -> new empty dictionary\n",
      " |  dict(mapping) -> new dictionary initialized from a mapping object's\n",
      " |      (key, value) pairs\n",
      " |  dict(iterable) -> new dictionary initialized as if via:\n",
      " |      d = {}\n",
      " |      for k, v in iterable:\n",
      " |          d[k] = v\n",
      " |  dict(**kwargs) -> new dictionary initialized with the name=value pairs\n",
      " |      in the keyword argument list.  For example:  dict(one=1, two=2)\n",
      " |  \n",
      " |  Methods defined here:\n",
      " |  \n",
      " |  __contains__(self, key, /)\n",
      " |      True if D has a key k, else False.\n",
      " |  \n",
      " |  __delitem__(self, key, /)\n",
      " |      Delete self[key].\n",
      " |  \n",
      " |  __eq__(self, value, /)\n",
      " |      Return self==value.\n",
      " |  \n",
      " |  __ge__(self, value, /)\n",
      " |      Return self>=value.\n",
      " |  \n",
      " |  __getattribute__(self, name, /)\n",
      " |      Return getattr(self, name).\n",
      " |  \n",
      " |  __getitem__(...)\n",
      " |      x.__getitem__(y) <==> x[y]\n",
      " |  \n",
      " |  __gt__(self, value, /)\n",
      " |      Return self>value.\n",
      " |  \n",
      " |  __init__(self, /, *args, **kwargs)\n",
      " |      Initialize self.  See help(type(self)) for accurate signature.\n",
      " |  \n",
      " |  __iter__(self, /)\n",
      " |      Implement iter(self).\n",
      " |  \n",
      " |  __le__(self, value, /)\n",
      " |      Return self<=value.\n",
      " |  \n",
      " |  __len__(self, /)\n",
      " |      Return len(self).\n",
      " |  \n",
      " |  __lt__(self, value, /)\n",
      " |      Return self<value.\n",
      " |  \n",
      " |  __ne__(self, value, /)\n",
      " |      Return self!=value.\n",
      " |  \n",
      " |  __new__(*args, **kwargs) from builtins.type\n",
      " |      Create and return a new object.  See help(type) for accurate signature.\n",
      " |  \n",
      " |  __repr__(self, /)\n",
      " |      Return repr(self).\n",
      " |  \n",
      " |  __setitem__(self, key, value, /)\n",
      " |      Set self[key] to value.\n",
      " |  \n",
      " |  __sizeof__(...)\n",
      " |      D.__sizeof__() -> size of D in memory, in bytes\n",
      " |  \n",
      " |  clear(...)\n",
      " |      D.clear() -> None.  Remove all items from D.\n",
      " |  \n",
      " |  copy(...)\n",
      " |      D.copy() -> a shallow copy of D\n",
      " |  \n",
      " |  fromkeys(iterable, value=None, /) from builtins.type\n",
      " |      Returns a new dict with keys from iterable and values equal to value.\n",
      " |  \n",
      " |  get(...)\n",
      " |      D.get(k[,d]) -> D[k] if k in D, else d.  d defaults to None.\n",
      " |  \n",
      " |  items(...)\n",
      " |      D.items() -> a set-like object providing a view on D's items\n",
      " |  \n",
      " |  keys(...)\n",
      " |      D.keys() -> a set-like object providing a view on D's keys\n",
      " |  \n",
      " |  pop(...)\n",
      " |      D.pop(k[,d]) -> v, remove specified key and return the corresponding value.\n",
      " |      If key is not found, d is returned if given, otherwise KeyError is raised\n",
      " |  \n",
      " |  popitem(...)\n",
      " |      D.popitem() -> (k, v), remove and return some (key, value) pair as a\n",
      " |      2-tuple; but raise KeyError if D is empty.\n",
      " |  \n",
      " |  setdefault(...)\n",
      " |      D.setdefault(k[,d]) -> D.get(k,d), also set D[k]=d if k not in D\n",
      " |  \n",
      " |  update(...)\n",
      " |      D.update([E, ]**F) -> None.  Update D from dict/iterable E and F.\n",
      " |      If E is present and has a .keys() method, then does:  for k in E: D[k] = E[k]\n",
      " |      If E is present and lacks a .keys() method, then does:  for k, v in E: D[k] = v\n",
      " |      In either case, this is followed by: for k in F:  D[k] = F[k]\n",
      " |  \n",
      " |  values(...)\n",
      " |      D.values() -> an object providing a view on D's values\n",
      " |  \n",
      " |  ----------------------------------------------------------------------\n",
      " |  Data and other attributes defined here:\n",
      " |  \n",
      " |  __hash__ = None\n",
      "\n"
     ]
    }
   ],
   "source": [
    "help(dict)"
   ]
  },
  {
   "cell_type": "code",
   "execution_count": 12,
   "metadata": {
    "collapsed": false
   },
   "outputs": [
    {
     "name": "stdout",
     "output_type": "stream",
     "text": [
      "[3171, 1502, 1906, 3852, 4063, 5507, 2657, 2475, 2152, 371, 5090, 1835, 1565, 18160]\n",
      "[630, 1801, 275, 15084, 2887, 513, 1192, 985, 1384, 1076, 5507, 5421, 2000, 2909, 1109, 952, 1771, 1676, 1404, 373, 5357]\n",
      "[371, 1502, 1565, 1835, 1906, 2152, 2475, 2657, 3171, 3852, 4063, 5090, 5507, 18160]\n",
      "[275, 373, 513, 630, 952, 985, 1076, 1109, 1192, 1384, 1404, 1676, 1771, 1801, 2000, 2887, 2909, 5357, 5421, 5507, 15084]\n"
     ]
    }
   ],
   "source": [
    "dir_files_plant = {}\n",
    "dir_files_disease = {}\n",
    "\n",
    "for r, dirs, files in os.walk(rootdir):\n",
    "    #print(root)\n",
    "    #print(dirs)\n",
    "    #print(files)\n",
    "    for directory in dirs:\n",
    "        plant_name, disease_name = directory.split(\"___\")\n",
    "        dir_path = os.path.join(r, directory)\n",
    "        for _, _, current_dir_files in os.walk(dir_path):\n",
    "            #print(len(current_dir_files))\n",
    "            \n",
    "            if (dir_files_plant.__contains__(plant_name)):\n",
    "                dir_files_plant[plant_name] += len(current_dir_files)\n",
    "            else:\n",
    "                dir_files_plant[plant_name] = len(current_dir_files)\n",
    "                \n",
    "            if (dir_files_disease.__contains__(disease_name)):\n",
    "                dir_files_disease[disease_name] += len(current_dir_files)\n",
    "            else:\n",
    "                dir_files_disease[disease_name] = len(current_dir_files)\n",
    "\n",
    "list_plant_num_files = list(dir_files_plant.values())\n",
    "list_disease_num_files = list(dir_files_disease.values())\n",
    "print(list_plant_num_files)\n",
    "print(list_disease_num_files)\n",
    "\n",
    "list_plant_num_files.sort()\n",
    "list_disease_num_files.sort()\n",
    "print(list_plant_num_files)\n",
    "print(list_disease_num_files)"
   ]
  },
  {
   "cell_type": "code",
   "execution_count": 7,
   "metadata": {
    "collapsed": false
   },
   "outputs": [
    {
     "name": "stdout",
     "output_type": "stream",
     "text": [
      "Help on method_descriptor:\n",
      "\n",
      "sort(...)\n",
      "    L.sort(key=None, reverse=False) -> None -- stable sort *IN PLACE*\n",
      "\n"
     ]
    }
   ],
   "source": [
    "help(list.sort)"
   ]
  },
  {
   "cell_type": "code",
   "execution_count": null,
   "metadata": {
    "collapsed": true
   },
   "outputs": [],
   "source": []
  }
 ],
 "metadata": {
  "kernelspec": {
   "display_name": "Python 2",
   "language": "python",
   "name": "python2"
  },
  "language_info": {
   "codemirror_mode": {
    "name": "ipython",
    "version": 2
   },
   "file_extension": ".py",
   "mimetype": "text/x-python",
   "name": "python",
   "nbconvert_exporter": "python",
   "pygments_lexer": "ipython2",
   "version": "2.7.13"
  }
 },
 "nbformat": 4,
 "nbformat_minor": 2
}
